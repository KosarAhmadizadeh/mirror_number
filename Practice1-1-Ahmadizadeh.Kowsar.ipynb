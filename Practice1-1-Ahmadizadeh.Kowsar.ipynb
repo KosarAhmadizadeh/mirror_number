{
 "cells": [
  {
   "cell_type": "code",
   "execution_count": 2,
   "id": "28193f44",
   "metadata": {},
   "outputs": [
    {
     "name": "stdout",
     "output_type": "stream",
     "text": [
      "345\n",
      "1\n",
      "3\n",
      "5\n",
      "15\n",
      "23\n",
      "69\n",
      "115\n",
      "345\n",
      "No\n"
     ]
    }
   ],
   "source": [
    "# Kowsar Ahmadizadeh \n",
    "# This program calculates odd factors of numbers and says if it's mirroring or not \n",
    "\n",
    "Number = int(input())\n",
    "if (Number < 0):\n",
    "    print(\"invalid input\")\n",
    "else:\n",
    "    for i in range(1,Number+1):\n",
    "        if (Number%i == 0):\n",
    "            if (i%2!= 0):\n",
    "                print(i)\n",
    "p = str(Number)\n",
    "q = p[ : :-1]\n",
    "if p == q:\n",
    "    print(\"Yes\")\n",
    "else:\n",
    "    print(\"No\")\n",
    "    "
   ]
  },
  {
   "cell_type": "code",
   "execution_count": null,
   "id": "c853c25b",
   "metadata": {},
   "outputs": [],
   "source": []
  }
 ],
 "metadata": {
  "kernelspec": {
   "display_name": "Python 3",
   "language": "python",
   "name": "python3"
  },
  "language_info": {
   "codemirror_mode": {
    "name": "ipython",
    "version": 3
   },
   "file_extension": ".py",
   "mimetype": "text/x-python",
   "name": "python",
   "nbconvert_exporter": "python",
   "pygments_lexer": "ipython3",
   "version": "3.8.8"
  }
 },
 "nbformat": 4,
 "nbformat_minor": 5
}
